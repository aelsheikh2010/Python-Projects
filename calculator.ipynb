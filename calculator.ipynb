{
 "cells": [
  {
   "cell_type": "code",
   "execution_count": null,
   "id": "1a876c0b",
   "metadata": {},
   "outputs": [
    {
     "name": "stdout",
     "output_type": "stream",
     "text": [
      "\n",
      " _____________________\n",
      "|  _________________  |\n",
      "| | Pythonista   0. | |  .----------------.  .----------------.  .----------------.  .----------------. \n",
      "| |_________________| | | .--------------. || .--------------. || .--------------. || .--------------. |\n",
      "|  ___ ___ ___   ___  | | |     ______   | || |      __      | || |   _____      | || |     ______   | |\n",
      "| | 7 | 8 | 9 | | + | | | |   .' ___  |  | || |     /  \\     | || |  |_   _|     | || |   .' ___  |  | |\n",
      "| |___|___|___| |___| | | |  / .'   \\_|  | || |    / /\\ \\    | || |    | |       | || |  / .'   \\_|  | |\n",
      "| | 4 | 5 | 6 | | - | | | |  | |         | || |   / ____ \\   | || |    | |   _   | || |  | |         | |\n",
      "| |___|___|___| |___| | | |  \\ `.___.'\\  | || | _/ /    \\ \\_ | || |   _| |__/ |  | || |  \\ `.___.'\\  | |\n",
      "| | 1 | 2 | 3 | | x | | | |   `._____.'  | || ||____|  |____|| || |  |________|  | || |   `._____.'  | |\n",
      "| |___|___|___| |___| | | |              | || |              | || |              | || |              | |\n",
      "| | . | 0 | = | | / | | | '--------------' || '--------------' || '--------------' || '--------------' |\n",
      "| |___|___|___| |___| |  '----------------'  '----------------'  '----------------'  '----------------' \n",
      "|_____________________|\n",
      "\n"
     ]
    }
   ],
   "source": [
    "#calculator\n",
    "#add function\n",
    "from calculator_art import logo\n",
    "def add(n1, n2):\n",
    "    return n1 + n2\n",
    "\n",
    "\n",
    "#subtract function\n",
    "def subtract(n1, n2):\n",
    "    return n1 - n2\n",
    "\n",
    "\n",
    "#multiply function\n",
    "def multiply(n1, n2):\n",
    "    return n1 * n2\n",
    "\n",
    "\n",
    "#divide function\n",
    "def divide(n1, n2):\n",
    "    return n1 / n2\n",
    "\n",
    "\n",
    "#create a new dictionary called operations\n",
    "operations = {\"+\": add, \"-\": subtract, \"*\": multiply, \"/\": divide}\n",
    "def calculator():\n",
    "  print(logo)\n",
    "  num1 = float(input(\"what's the first number?: \"))\n",
    "  for symbol in operations:\n",
    "      print(symbol)\n",
    "    \n",
    "  should_coninue = True\n",
    "  while should_coninue: \n",
    "    symbol_operation = input(\"pick an operation: \")\n",
    "    num2 = float(input(\"what's the next number?: \"))\n",
    "    calculation_function = operations[symbol_operation]\n",
    "    answer = calculation_function(num1, num2)\n",
    "    print(f\"{num1} {symbol_operation} {num2} = {answer}\")\n",
    "    prog_continue = input(f\"Typy 'y' to coninue calculating with {answer},or type 'n' to start a new calculation: \")\n",
    "    if prog_continue ==\"y\":\n",
    "      num1 = answer\n",
    "    else:\n",
    "      should_coninue = False\n",
    "      calculator()\n",
    "calculator()"
   ]
  },
  {
   "cell_type": "code",
   "execution_count": null,
   "id": "a124cce3",
   "metadata": {},
   "outputs": [],
   "source": []
  }
 ],
 "metadata": {
  "kernelspec": {
   "display_name": "Python 3 (ipykernel)",
   "language": "python",
   "name": "python3"
  },
  "language_info": {
   "codemirror_mode": {
    "name": "ipython",
    "version": 3
   },
   "file_extension": ".py",
   "mimetype": "text/x-python",
   "name": "python",
   "nbconvert_exporter": "python",
   "pygments_lexer": "ipython3",
   "version": "3.10.6"
  }
 },
 "nbformat": 4,
 "nbformat_minor": 5
}
